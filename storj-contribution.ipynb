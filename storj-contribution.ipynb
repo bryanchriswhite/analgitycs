{
 "cells": [
  {
   "cell_type": "code",
   "execution_count": 96,
   "metadata": {
    "pycharm": {
     "name": "#%%\n"
    }
   },
   "outputs": [],
   "source": [
    "%matplotlib inline\n",
    "from importlib import reload"
   ]
  },
  {
   "cell_type": "code",
   "execution_count": 97,
   "metadata": {
    "pycharm": {
     "name": "#%%\n"
    }
   },
   "outputs": [],
   "source": [
    "import re, time, os.path as path\n",
    "from datetime import date\n",
    "from math import floor\n",
    "from concurrent.futures import ThreadPoolExecutor, as_completed\n",
    "\n",
    "from lib import my_types, count\n",
    "\n",
    "start = time.perf_counter()\n",
    "\n",
    "max_workers = 50\n",
    "root_dir = \"/home/bwhite/Projects/bryanchriswhite\"\n",
    "repo_names = [\n",
    "#     \"storj\",\n",
    "#     \"uplink\",\n",
    "    \"uplink-c\"\n",
    "]\n",
    "excluded_exts = set()\n",
    "repo_counts: my_types.AllRepoFileAuthors = {}\n",
    "\n",
    "# TODO: use lib.util.filter_ext\n",
    "def filter_ext(filename):\n",
    "    ext = path.splitext(filename)[1]\n",
    "    ext_whitelist = (\n",
    "        \".go\", \".proto\", \".c\", \".h\", \".sh\", \".md\", \".xml\", \".wixproj\", \".wsx\", \".cs\"\n",
    "    )\n",
    "    exclude = filename == \"\" or ext not in ext_whitelist\n",
    "    \n",
    "    if exclude:\n",
    "        excluded_exts.add(ext)\n",
    "    \n",
    "    return exclude\n",
    "\n",
    "# end = time.perf_counter()\n",
    "# print(str.format(\"done: {}s!\", round(end - start, 2)))\n",
    "# print(str.format(\"excluded file extensions: {}\", excluded_exts))"
   ]
  },
  {
   "cell_type": "code",
   "execution_count": 98,
   "metadata": {
    "pycharm": {
     "name": "#%%\n"
    }
   },
   "outputs": [
    {
     "name": "stdout",
     "output_type": "stream",
     "text": [
      "len(commits) 10\n"
     ]
    }
   ],
   "source": [
    "from concurrent.futures import Future, as_completed, wait\n",
    "from typing import List, Tuple, Dict\n",
    "\n",
    "from lib import git, my_types, repo, worktree\n",
    "from lib.repo import RepoStat\n",
    "from lib.worktree import Worktree\n",
    "from lib.my_types import FileAuthors\n",
    "[reload(m) for m in (git, my_types, repo, worktree, count)]\n",
    "\n",
    "# max_samples = 128\n",
    "samples: List[Tuple[date, str]] = []\n",
    "commits: Dict[str, date] = {}\n",
    "    \n",
    "repo_samples: Dict[str, List[Tuple[date, str]]] = {}\n",
    "repo_commits: Dict[str, Dict[str, date]] = {}\n",
    "    \n",
    "author_regex = re.compile(\"\\S+\\s+\\(([\\w ]+)\\s*?\\d{4,}\")\n",
    "commit_re = re.compile(\"^(\\w+)\\s+\\(.*,\\s+(\\d{4,}-\\d{2,}-\\d{2,})\\)$\")\n",
    "    \n",
    "repo_results = {}\n",
    "for repo in repo_names:\n",
    "    repo_root = \"/home/bwhite/Projects/bryanchriswhite/uplink-c\"\n",
    "    rs = RepoStat(repo_root)\n",
    "    repo_line_authors_history = rs.line_authors_range('master', file_filter=filter_ext, limit=10)\n",
    "    results = []\n",
    "    # TODO: repo_commit_*file*_authors ...\n",
    "    for commit_date, repo_commit_line_authors in [f.result() for f in repo_line_authors_history]:\n",
    "#         results.append((commit_date, [f.result() for f in repo_commit_line_authors.values() if f is not None]))\n",
    "        for file, file_authors_f in repo_commit_line_authors.items():\n",
    "                file_authors: FileAuthors = file_authors_f.result()\n",
    "                if repo not in repo_counts:\n",
    "                    repo_counts[repo]: Dict = {}\n",
    "    #             repo_counts[repo][(commit_date, file_authors)]\n",
    "                    #### TODO ----v: swap file and date; use timestamp!!!\n",
    "                if commit_date not in repo_counts[repo]:\n",
    "                    # TODO: THERE CAN BE MORE THAN ONE COMMIT PER DAY!!!\n",
    "                    repo_counts[repo][commit_date] = {}\n",
    "                repo_counts[repo][commit_date][file] = file_authors\n",
    "\n",
    "        rcla = repo_commit_line_authors\n",
    "        new_results = {file:fut.result() for (file, fut) in rcla.items() if fut is not None}\n",
    "        results.append((commit_date, new_results))\n",
    "    repo_results[repo] = results\n"
   ]
  },
  {
   "cell_type": "code",
   "execution_count": 99,
   "metadata": {},
   "outputs": [
    {
     "name": "stdout",
     "output_type": "stream",
     "text": [
      "10\n",
      "{'uplink-c': [(datetime.datetime(2020, 4, 6, 15, 56, 47, tzinfo=tzoffset(None, 10800)), {'MAINTAINERS.md': {'Kaloyan Raev': 38}, 'README.md': {'Egon Elbre': 2, 'Kaloyan Raev': 39}, 'access.go': {'Egon Elbre': 159, 'Michal Niewrzal': 15}, 'bucket.go': {'Egon Elbre': 165}, 'buckets.go': {'Egon Elbre': 118}, 'config.go': {'Egon Elbre': 81, 'Michal Niewrzal': 5}, 'custommetadata.go': {'Egon Elbre': 108}, 'custommetadata_test.go': {'Egon Elbre': 49}, 'download.go': {'Egon Elbre': 160, 'Michal Niewrzal': 3}, 'error.go': {'Egon Elbre': 84, 'Michal Niewrzal': 1}, 'handles.go': {'Egon Elbre': 67}, 'handles_test.go': {'Egon Elbre': 39}, 'main.go': {'Egon Elbre': 17}, 'object.go': {'Egon Elbre': 127, 'Michal Niewrzal': 3}, 'objects.go': {'Egon Elbre': 129}, 'project.go': {'Egon Elbre': 90, 'Michal Niewrzal': 1}, 'scope.go': {'Egon Elbre': 34}, 'testsuite/testdata/access_test.c': {'Egon Elbre': 34, 'Michal Niewrzal': 127}, 'testsuite/testdata/bucket_test.c': {'Egon Elbre': 110}, 'testsuite/testdata/buckets_test.c': {'Egon Elbre': 49, 'Michal Niewrzal': 30}, 'testsuite/testdata/config_test.c': {'Michal Niewrzal': 73, 'Egon Elbre': 1}, 'testsuite/testdata/example_test.c': {'Egon Elbre': 200}, 'testsuite/testdata/helpers.h': {'Egon Elbre': 63}, 'testsuite/testdata/object_test.c': {'Egon Elbre': 113, 'Michal Niewrzal': 37}, 'testsuite/testdata/objects_test.c': {'Egon Elbre': 62, 'Michal Niewrzal': 79}, 'testsuite/testdata/project_test.c': {'Egon Elbre': 19}, 'testsuite/testdata/require.h': {'Egon Elbre': 40}, 'testsuite/testdata_test.go': {'Egon Elbre': 92}, 'uplink_definitions.h': {'Egon Elbre': 180, 'Michal Niewrzal': 2}, 'upload.go': {'Egon Elbre': 179}, 'util.go': {'Egon Elbre': 22}}), (datetime.datetime(2020, 3, 31, 16, 8, 33, tzinfo=tzoffset(None, 10800)), {'README.md': {'Egon Elbre': 2, 'Kaloyan Raev': 39}, 'access.go': {'Egon Elbre': 159, 'Michal Niewrzal': 15}, 'bucket.go': {'Egon Elbre': 165}, 'buckets.go': {'Egon Elbre': 118}, 'config.go': {'Egon Elbre': 81, 'Michal Niewrzal': 5}, 'custommetadata.go': {'Egon Elbre': 108}, 'custommetadata_test.go': {'Egon Elbre': 49}, 'download.go': {'Egon Elbre': 160, 'Michal Niewrzal': 3}, 'error.go': {'Egon Elbre': 84, 'Michal Niewrzal': 1}, 'handles.go': {'Egon Elbre': 67}, 'handles_test.go': {'Egon Elbre': 39}, 'main.go': {'Egon Elbre': 17}, 'object.go': {'Egon Elbre': 127, 'Michal Niewrzal': 3}, 'objects.go': {'Egon Elbre': 129}, 'project.go': {'Egon Elbre': 90, 'Michal Niewrzal': 1}, 'scope.go': {'Egon Elbre': 34}, 'testsuite/testdata/access_test.c': {'Egon Elbre': 34, 'Michal Niewrzal': 127}, 'testsuite/testdata/bucket_test.c': {'Egon Elbre': 110}, 'testsuite/testdata/buckets_test.c': {'Egon Elbre': 49, 'Michal Niewrzal': 30}, 'testsuite/testdata/config_test.c': {'Michal Niewrzal': 73, 'Egon Elbre': 1}, 'testsuite/testdata/example_test.c': {'Egon Elbre': 200}, 'testsuite/testdata/helpers.h': {'Egon Elbre': 63}, 'testsuite/testdata/object_test.c': {'Egon Elbre': 113, 'Michal Niewrzal': 37}, 'testsuite/testdata/objects_test.c': {'Egon Elbre': 62, 'Michal Niewrzal': 79}, 'testsuite/testdata/project_test.c': {'Egon Elbre': 19}, 'testsuite/testdata/require.h': {'Egon Elbre': 40}, 'testsuite/testdata_test.go': {'Egon Elbre': 92}, 'uplink_definitions.h': {'Egon Elbre': 180, 'Michal Niewrzal': 2}, 'upload.go': {'Egon Elbre': 179}, 'util.go': {'Egon Elbre': 22}}), (datetime.datetime(2020, 3, 19, 18, 5, 25, tzinfo=tzoffset(None, 3600)), {'README.md': {'Egon Elbre': 2, 'Kaloyan Raev': 39}, 'access.go': {'Egon Elbre': 159, 'Michal Niewrzal': 15}, 'bucket.go': {'Egon Elbre': 165}, 'buckets.go': {'Egon Elbre': 118}, 'config.go': {'Egon Elbre': 81, 'Michal Niewrzal': 5}, 'custommetadata.go': {'Egon Elbre': 108}, 'custommetadata_test.go': {'Egon Elbre': 49}, 'download.go': {'Egon Elbre': 160, 'Michal Niewrzal': 3}, 'error.go': {'Egon Elbre': 84, 'Michal Niewrzal': 1}, 'handles.go': {'Egon Elbre': 67}, 'handles_test.go': {'Egon Elbre': 39}, 'main.go': {'Egon Elbre': 17}, 'object.go': {'Egon Elbre': 127, 'Michal Niewrzal': 3}, 'objects.go': {'Egon Elbre': 129}, 'project.go': {'Egon Elbre': 90, 'Michal Niewrzal': 1}, 'scope.go': {'Egon Elbre': 34}, 'testsuite/testdata/access_test.c': {'Egon Elbre': 34, 'Michal Niewrzal': 127}, 'testsuite/testdata/bucket_test.c': {'Egon Elbre': 110}, 'testsuite/testdata/buckets_test.c': {'Egon Elbre': 49, 'Michal Niewrzal': 30}, 'testsuite/testdata/config_test.c': {'Michal Niewrzal': 73, 'Egon Elbre': 1}, 'testsuite/testdata/example_test.c': {'Egon Elbre': 200}, 'testsuite/testdata/helpers.h': {'Egon Elbre': 63}, 'testsuite/testdata/object_test.c': {'Egon Elbre': 113, 'Michal Niewrzal': 37}, 'testsuite/testdata/objects_test.c': {'Egon Elbre': 62, 'Michal Niewrzal': 79}, 'testsuite/testdata/project_test.c': {'Egon Elbre': 19}, 'testsuite/testdata/require.h': {'Egon Elbre': 40}, 'testsuite/testdata_test.go': {'Egon Elbre': 92}, 'uplink_definitions.h': {'Egon Elbre': 180, 'Michal Niewrzal': 2}, 'upload.go': {'Egon Elbre': 179}, 'util.go': {'Egon Elbre': 22}}), (datetime.datetime(2020, 3, 16, 19, 36, 27, tzinfo=tzoffset(None, 3600)), {'README.md': {'Egon Elbre': 2, 'Kaloyan Raev': 39}, 'access.go': {'Egon Elbre': 159, 'Michal Niewrzal': 15}, 'bucket.go': {'Egon Elbre': 165}, 'buckets.go': {'Egon Elbre': 118}, 'config.go': {'Egon Elbre': 81, 'Michal Niewrzal': 5}, 'custommetadata.go': {'Egon Elbre': 108}, 'custommetadata_test.go': {'Egon Elbre': 49}, 'download.go': {'Egon Elbre': 160, 'Michal Niewrzal': 3}, 'error.go': {'Egon Elbre': 84, 'Michal Niewrzal': 1}, 'handles.go': {'Egon Elbre': 67}, 'handles_test.go': {'Egon Elbre': 39}, 'main.go': {'Egon Elbre': 17}, 'object.go': {'Egon Elbre': 127, 'Michal Niewrzal': 3}, 'objects.go': {'Egon Elbre': 129}, 'project.go': {'Egon Elbre': 90, 'Michal Niewrzal': 1}, 'scope.go': {'Egon Elbre': 34}, 'testsuite/testdata/access_test.c': {'Egon Elbre': 34, 'Michal Niewrzal': 127}, 'testsuite/testdata/bucket_test.c': {'Egon Elbre': 110}, 'testsuite/testdata/buckets_test.c': {'Egon Elbre': 49, 'Michal Niewrzal': 30}, 'testsuite/testdata/config_test.c': {'Michal Niewrzal': 73, 'Egon Elbre': 1}, 'testsuite/testdata/example_test.c': {'Egon Elbre': 200}, 'testsuite/testdata/helpers.h': {'Egon Elbre': 63}, 'testsuite/testdata/object_test.c': {'Egon Elbre': 113, 'Michal Niewrzal': 37}, 'testsuite/testdata/objects_test.c': {'Egon Elbre': 62, 'Michal Niewrzal': 79}, 'testsuite/testdata/project_test.c': {'Egon Elbre': 19}, 'testsuite/testdata/require.h': {'Egon Elbre': 40}, 'testsuite/testdata_test.go': {'Egon Elbre': 92}, 'uplink_definitions.h': {'Egon Elbre': 180, 'Michal Niewrzal': 2}, 'upload.go': {'Egon Elbre': 179}, 'util.go': {'Egon Elbre': 22}}), (datetime.datetime(2020, 3, 13, 14, 8, 7, tzinfo=tzoffset(None, 7200)), {'README.md': {'Egon Elbre': 2, 'Kaloyan Raev': 39}, 'access.go': {'Egon Elbre': 167, 'Michal Niewrzal': 8}, 'bucket.go': {'Egon Elbre': 165}, 'buckets.go': {'Egon Elbre': 118}, 'config.go': {'Egon Elbre': 83, 'Michal Niewrzal': 3}, 'custommetadata.go': {'Egon Elbre': 108}, 'custommetadata_test.go': {'Egon Elbre': 49}, 'download.go': {'Egon Elbre': 160, 'Michal Niewrzal': 3}, 'error.go': {'Egon Elbre': 84, 'Michal Niewrzal': 1}, 'handles.go': {'Egon Elbre': 67}, 'handles_test.go': {'Egon Elbre': 39}, 'main.go': {'Egon Elbre': 17}, 'object.go': {'Egon Elbre': 127, 'Michal Niewrzal': 3}, 'objects.go': {'Egon Elbre': 129}, 'project.go': {'Egon Elbre': 91}, 'scope.go': {'Egon Elbre': 34}, 'testsuite/testdata/access_test.c': {'Egon Elbre': 34, 'Michal Niewrzal': 127}, 'testsuite/testdata/bucket_test.c': {'Egon Elbre': 110}, 'testsuite/testdata/buckets_test.c': {'Egon Elbre': 49, 'Michal Niewrzal': 30}, 'testsuite/testdata/config_test.c': {'Michal Niewrzal': 73, 'Egon Elbre': 1}, 'testsuite/testdata/example_test.c': {'Egon Elbre': 200}, 'testsuite/testdata/helpers.h': {'Egon Elbre': 63}, 'testsuite/testdata/object_test.c': {'Egon Elbre': 113, 'Michal Niewrzal': 37}, 'testsuite/testdata/objects_test.c': {'Egon Elbre': 62, 'Michal Niewrzal': 79}, 'testsuite/testdata/project_test.c': {'Egon Elbre': 19}, 'testsuite/testdata/require.h': {'Egon Elbre': 40}, 'testsuite/testdata_test.go': {'Egon Elbre': 92}, 'uplink_definitions.h': {'Egon Elbre': 180, 'Michal Niewrzal': 2}, 'upload.go': {'Egon Elbre': 179}, 'util.go': {'Egon Elbre': 22}}), (datetime.datetime(2020, 3, 12, 17, 13, 56, tzinfo=tzoffset(None, 7200)), {'README.md': {'Egon Elbre': 2, 'Kaloyan Raev': 39}, 'access.go': {'Egon Elbre': 167, 'Michal Niewrzal': 8}, 'bucket.go': {'Egon Elbre': 165}, 'buckets.go': {'Egon Elbre': 118}, 'config.go': {'Egon Elbre': 83, 'Michal Niewrzal': 3}, 'custommetadata.go': {'Egon Elbre': 108}, 'custommetadata_test.go': {'Egon Elbre': 49}, 'download.go': {'Egon Elbre': 160, 'Michal Niewrzal': 3}, 'error.go': {'Egon Elbre': 84, 'Michal Niewrzal': 1}, 'handles.go': {'Egon Elbre': 67}, 'handles_test.go': {'Egon Elbre': 39}, 'main.go': {'Egon Elbre': 17}, 'object.go': {'Egon Elbre': 127, 'Michal Niewrzal': 3}, 'objects.go': {'Egon Elbre': 129}, 'project.go': {'Egon Elbre': 91}, 'scope.go': {'Egon Elbre': 34}, 'testsuite/testdata/access_test.c': {'Egon Elbre': 34, 'Michal Niewrzal': 127}, 'testsuite/testdata/bucket_test.c': {'Egon Elbre': 110}, 'testsuite/testdata/buckets_test.c': {'Egon Elbre': 49, 'Michal Niewrzal': 30}, 'testsuite/testdata/config_test.c': {'Michal Niewrzal': 73, 'Egon Elbre': 1}, 'testsuite/testdata/example_test.c': {'Egon Elbre': 200}, 'testsuite/testdata/helpers.h': {'Egon Elbre': 63}, 'testsuite/testdata/object_test.c': {'Egon Elbre': 113, 'Michal Niewrzal': 37}, 'testsuite/testdata/objects_test.c': {'Egon Elbre': 62, 'Michal Niewrzal': 79}, 'testsuite/testdata/project_test.c': {'Egon Elbre': 19}, 'testsuite/testdata/require.h': {'Egon Elbre': 40}, 'testsuite/testdata_test.go': {'Egon Elbre': 92}, 'uplink_definitions.h': {'Egon Elbre': 180, 'Michal Niewrzal': 2}, 'upload.go': {'Egon Elbre': 179}, 'util.go': {'Egon Elbre': 22}}), (datetime.datetime(2020, 3, 12, 17, 23, 10, tzinfo=tzoffset(None, 7200)), {'README.md': {'Egon Elbre': 2, 'Kaloyan Raev': 39}, 'access.go': {'Egon Elbre': 167, 'Michal Niewrzal': 8}, 'bucket.go': {'Egon Elbre': 165}, 'buckets.go': {'Egon Elbre': 118}, 'config.go': {'Egon Elbre': 83, 'Michal Niewrzal': 3}, 'custommetadata.go': {'Egon Elbre': 108}, 'custommetadata_test.go': {'Egon Elbre': 49}, 'download.go': {'Egon Elbre': 160, 'Michal Niewrzal': 3}, 'error.go': {'Egon Elbre': 84, 'Michal Niewrzal': 1}, 'handles.go': {'Egon Elbre': 67}, 'handles_test.go': {'Egon Elbre': 39}, 'main.go': {'Egon Elbre': 17}, 'object.go': {'Egon Elbre': 127, 'Michal Niewrzal': 3}, 'objects.go': {'Egon Elbre': 129}, 'project.go': {'Egon Elbre': 91}, 'scope.go': {'Egon Elbre': 34}, 'testsuite/testdata/access_test.c': {'Egon Elbre': 34, 'Michal Niewrzal': 127}, 'testsuite/testdata/bucket_test.c': {'Egon Elbre': 110}, 'testsuite/testdata/buckets_test.c': {'Egon Elbre': 49, 'Michal Niewrzal': 30}, 'testsuite/testdata/config_test.c': {'Michal Niewrzal': 73, 'Egon Elbre': 1}, 'testsuite/testdata/example_test.c': {'Egon Elbre': 200}, 'testsuite/testdata/helpers.h': {'Egon Elbre': 63}, 'testsuite/testdata/object_test.c': {'Egon Elbre': 113, 'Michal Niewrzal': 37}, 'testsuite/testdata/objects_test.c': {'Egon Elbre': 62, 'Michal Niewrzal': 79}, 'testsuite/testdata/project_test.c': {'Egon Elbre': 19}, 'testsuite/testdata/require.h': {'Egon Elbre': 40}, 'testsuite/testdata_test.go': {'Egon Elbre': 92}, 'uplink_definitions.h': {'Egon Elbre': 180, 'Michal Niewrzal': 2}, 'upload.go': {'Egon Elbre': 179}, 'util.go': {'Egon Elbre': 22}}), (datetime.datetime(2020, 3, 12, 15, 14, 1, tzinfo=tzoffset(None, 3600)), {'README.md': {'Egon Elbre': 3}, 'access.go': {'Egon Elbre': 167, 'Michal Niewrzal': 8}, 'bucket.go': {'Egon Elbre': 165}, 'buckets.go': {'Egon Elbre': 118}, 'config.go': {'Egon Elbre': 83, 'Michal Niewrzal': 3}, 'custommetadata.go': {'Egon Elbre': 108}, 'custommetadata_test.go': {'Egon Elbre': 49}, 'download.go': {'Egon Elbre': 160, 'Michal Niewrzal': 3}, 'error.go': {'Egon Elbre': 84, 'Michal Niewrzal': 1}, 'handles.go': {'Egon Elbre': 67}, 'handles_test.go': {'Egon Elbre': 39}, 'main.go': {'Egon Elbre': 17}, 'object.go': {'Egon Elbre': 127, 'Michal Niewrzal': 3}, 'objects.go': {'Egon Elbre': 129}, 'project.go': {'Egon Elbre': 91}, 'scope.go': {'Egon Elbre': 34}, 'testsuite/testdata/access_test.c': {'Egon Elbre': 34, 'Michal Niewrzal': 127}, 'testsuite/testdata/bucket_test.c': {'Egon Elbre': 110}, 'testsuite/testdata/buckets_test.c': {'Egon Elbre': 49, 'Michal Niewrzal': 30}, 'testsuite/testdata/config_test.c': {'Michal Niewrzal': 73, 'Egon Elbre': 1}, 'testsuite/testdata/example_test.c': {'Egon Elbre': 200}, 'testsuite/testdata/helpers.h': {'Egon Elbre': 63}, 'testsuite/testdata/object_test.c': {'Egon Elbre': 113, 'Michal Niewrzal': 37}, 'testsuite/testdata/objects_test.c': {'Egon Elbre': 62, 'Michal Niewrzal': 79}, 'testsuite/testdata/project_test.c': {'Egon Elbre': 19}, 'testsuite/testdata/require.h': {'Egon Elbre': 40}, 'testsuite/testdata_test.go': {'Egon Elbre': 92}, 'uplink_definitions.h': {'Egon Elbre': 180, 'Michal Niewrzal': 2}, 'upload.go': {'Egon Elbre': 179}, 'util.go': {'Egon Elbre': 22}}), (datetime.datetime(2020, 3, 12, 13, 58, 9, tzinfo=tzoffset(None, 3600)), {'README.md': {'Egon Elbre': 3}, 'access.go': {'Egon Elbre': 167, 'Michal Niewrzal': 8}, 'bucket.go': {'Egon Elbre': 165}, 'buckets.go': {'Egon Elbre': 118}, 'config.go': {'Egon Elbre': 83, 'Michal Niewrzal': 3}, 'custommetadata.go': {'Egon Elbre': 108}, 'custommetadata_test.go': {'Egon Elbre': 49}, 'download.go': {'Egon Elbre': 160, 'Michal Niewrzal': 3}, 'error.go': {'Egon Elbre': 85}, 'handles.go': {'Egon Elbre': 67}, 'handles_test.go': {'Egon Elbre': 39}, 'main.go': {'Egon Elbre': 17}, 'object.go': {'Egon Elbre': 127, 'Michal Niewrzal': 3}, 'objects.go': {'Egon Elbre': 129}, 'project.go': {'Egon Elbre': 91}, 'scope.go': {'Egon Elbre': 34}, 'testsuite/testdata/access_test.c': {'Egon Elbre': 34, 'Michal Niewrzal': 127}, 'testsuite/testdata/bucket_test.c': {'Egon Elbre': 110}, 'testsuite/testdata/buckets_test.c': {'Egon Elbre': 49, 'Michal Niewrzal': 30}, 'testsuite/testdata/config_test.c': {'Michal Niewrzal': 73, 'Egon Elbre': 1}, 'testsuite/testdata/example_test.c': {'Egon Elbre': 200}, 'testsuite/testdata/helpers.h': {'Egon Elbre': 63}, 'testsuite/testdata/object_test.c': {'Egon Elbre': 113, 'Michal Niewrzal': 37}, 'testsuite/testdata/objects_test.c': {'Egon Elbre': 62, 'Michal Niewrzal': 79}, 'testsuite/testdata/project_test.c': {'Egon Elbre': 19}, 'testsuite/testdata/require.h': {'Egon Elbre': 40}, 'testsuite/testdata_test.go': {'Egon Elbre': 92}, 'uplink_definitions.h': {'Egon Elbre': 181, 'Michal Niewrzal': 1}, 'upload.go': {'Egon Elbre': 179}, 'util.go': {'Egon Elbre': 22}}), (datetime.datetime(2020, 3, 12, 12, 19, 2, tzinfo=tzoffset(None, 3600)), {'README.md': {'Egon Elbre': 3}, 'access.go': {'Egon Elbre': 171, 'Michal Niewrzal': 6}, 'bucket.go': {'Egon Elbre': 165}, 'buckets.go': {'Egon Elbre': 118}, 'config.go': {'Egon Elbre': 83, 'Michal Niewrzal': 3}, 'custommetadata.go': {'Egon Elbre': 108}, 'custommetadata_test.go': {'Egon Elbre': 49}, 'download.go': {'Egon Elbre': 163}, 'error.go': {'Egon Elbre': 85}, 'handles.go': {'Egon Elbre': 67}, 'handles_test.go': {'Egon Elbre': 39}, 'main.go': {'Egon Elbre': 17}, 'object.go': {'Egon Elbre': 127, 'Michal Niewrzal': 3}, 'objects.go': {'Egon Elbre': 129}, 'project.go': {'Egon Elbre': 91}, 'scope.go': {'Egon Elbre': 34}, 'testsuite/testdata/access_test.c': {'Egon Elbre': 34, 'Michal Niewrzal': 127}, 'testsuite/testdata/bucket_test.c': {'Egon Elbre': 110}, 'testsuite/testdata/buckets_test.c': {'Egon Elbre': 49, 'Michal Niewrzal': 30}, 'testsuite/testdata/config_test.c': {'Michal Niewrzal': 73, 'Egon Elbre': 1}, 'testsuite/testdata/example_test.c': {'Egon Elbre': 200}, 'testsuite/testdata/helpers.h': {'Egon Elbre': 63}, 'testsuite/testdata/object_test.c': {'Egon Elbre': 113, 'Michal Niewrzal': 37}, 'testsuite/testdata/objects_test.c': {'Egon Elbre': 62, 'Michal Niewrzal': 79}, 'testsuite/testdata/project_test.c': {'Egon Elbre': 19}, 'testsuite/testdata/require.h': {'Egon Elbre': 40}, 'testsuite/testdata_test.go': {'Egon Elbre': 92}, 'uplink_definitions.h': {'Egon Elbre': 181, 'Michal Niewrzal': 1}, 'upload.go': {'Egon Elbre': 179}, 'util.go': {'Egon Elbre': 22}})]}\n"
     ]
    }
   ],
   "source": [
    "# print(repo_counts)\n",
    "# print([k for k in repo_counts['uplink-c'].values()][18])\n",
    "print(len(repo_results['uplink-c']))\n",
    "print(repo_results)"
   ]
  },
  {
   "cell_type": "code",
   "execution_count": 100,
   "metadata": {
    "pycharm": {
     "name": "#%%\n"
    }
   },
   "outputs": [
    {
     "name": "stdout",
     "output_type": "stream",
     "text": [
      "len(commit_file_authors 10\n",
      "(datetime.datetime(2020, 4, 6, 15, 56, 47, tzinfo=tzoffset(None, 10800)), {'MAINTAINERS.md': {'Kaloyan Raev': 38}, 'README.md': {'Egon Elbre': 2, 'Kaloyan Raev': 39}, 'access.go': {'Egon Elbre': 159, 'Michal Niewrzal': 15}, 'bucket.go': {'Egon Elbre': 165}, 'buckets.go': {'Egon Elbre': 118}, 'config.go': {'Egon Elbre': 81, 'Michal Niewrzal': 5}, 'custommetadata.go': {'Egon Elbre': 108}, 'custommetadata_test.go': {'Egon Elbre': 49}, 'download.go': {'Egon Elbre': 160, 'Michal Niewrzal': 3}, 'error.go': {'Egon Elbre': 84, 'Michal Niewrzal': 1}, 'handles.go': {'Egon Elbre': 67}, 'handles_test.go': {'Egon Elbre': 39}, 'main.go': {'Egon Elbre': 17}, 'object.go': {'Egon Elbre': 127, 'Michal Niewrzal': 3}, 'objects.go': {'Egon Elbre': 129}, 'project.go': {'Egon Elbre': 90, 'Michal Niewrzal': 1}, 'scope.go': {'Egon Elbre': 34}, 'testsuite/testdata/access_test.c': {'Egon Elbre': 34, 'Michal Niewrzal': 127}, 'testsuite/testdata/bucket_test.c': {'Egon Elbre': 110}, 'testsuite/testdata/buckets_test.c': {'Egon Elbre': 49, 'Michal Niewrzal': 30}, 'testsuite/testdata/config_test.c': {'Michal Niewrzal': 73, 'Egon Elbre': 1}, 'testsuite/testdata/example_test.c': {'Egon Elbre': 200}, 'testsuite/testdata/helpers.h': {'Egon Elbre': 63}, 'testsuite/testdata/object_test.c': {'Egon Elbre': 113, 'Michal Niewrzal': 37}, 'testsuite/testdata/objects_test.c': {'Egon Elbre': 62, 'Michal Niewrzal': 79}, 'testsuite/testdata/project_test.c': {'Egon Elbre': 19}, 'testsuite/testdata/require.h': {'Egon Elbre': 40}, 'testsuite/testdata_test.go': {'Egon Elbre': 92}, 'uplink_definitions.h': {'Egon Elbre': 180, 'Michal Niewrzal': 2}, 'upload.go': {'Egon Elbre': 179}, 'util.go': {'Egon Elbre': 22}})\n",
      "len(totals[repo]): 10\n"
     ]
    },
    {
     "data": {
      "text/plain": [
       "{'uplink-c': [(datetime.datetime(2020, 4, 6, 15, 56, 47, tzinfo=tzoffset(None, 10800)),\n",
       "   {'Kaloyan Raev': 77, 'Egon Elbre': 2593, 'Michal Niewrzal': 376}),\n",
       "  (datetime.datetime(2020, 3, 31, 16, 8, 33, tzinfo=tzoffset(None, 10800)),\n",
       "   {'Egon Elbre': 2593, 'Kaloyan Raev': 39, 'Michal Niewrzal': 376}),\n",
       "  (datetime.datetime(2020, 3, 19, 18, 5, 25, tzinfo=tzoffset(None, 3600)),\n",
       "   {'Egon Elbre': 2593, 'Kaloyan Raev': 39, 'Michal Niewrzal': 376}),\n",
       "  (datetime.datetime(2020, 3, 16, 19, 36, 27, tzinfo=tzoffset(None, 3600)),\n",
       "   {'Egon Elbre': 2593, 'Kaloyan Raev': 39, 'Michal Niewrzal': 376}),\n",
       "  (datetime.datetime(2020, 3, 13, 14, 8, 7, tzinfo=tzoffset(None, 7200)),\n",
       "   {'Egon Elbre': 2604, 'Kaloyan Raev': 39, 'Michal Niewrzal': 366}),\n",
       "  (datetime.datetime(2020, 3, 12, 17, 13, 56, tzinfo=tzoffset(None, 7200)),\n",
       "   {'Egon Elbre': 2604, 'Kaloyan Raev': 39, 'Michal Niewrzal': 366}),\n",
       "  (datetime.datetime(2020, 3, 12, 17, 23, 10, tzinfo=tzoffset(None, 7200)),\n",
       "   {'Egon Elbre': 2604, 'Kaloyan Raev': 39, 'Michal Niewrzal': 366}),\n",
       "  (datetime.datetime(2020, 3, 12, 15, 14, 1, tzinfo=tzoffset(None, 3600)),\n",
       "   {'Egon Elbre': 2605, 'Michal Niewrzal': 366}),\n",
       "  (datetime.datetime(2020, 3, 12, 13, 58, 9, tzinfo=tzoffset(None, 3600)),\n",
       "   {'Egon Elbre': 2607, 'Michal Niewrzal': 364}),\n",
       "  (datetime.datetime(2020, 3, 12, 12, 19, 2, tzinfo=tzoffset(None, 3600)),\n",
       "   {'Egon Elbre': 2614, 'Michal Niewrzal': 359})]}"
      ]
     },
     "execution_count": 100,
     "metadata": {},
     "output_type": "execute_result"
    }
   ],
   "source": [
    "from lib import report, util\n",
    "[reload(m) for m in (report, util)]\n",
    "\n",
    "totals_dict = util.sum_repo_commit_lines(repo_results)\n",
    "# totals_dict = util.repo_counts_to_totals_dict(repo_counts)\n",
    "# # report.leaderboard(totals_dict)\n",
    "totals_dict\n"
   ]
  },
  {
   "cell_type": "code",
   "execution_count": 101,
   "metadata": {
    "pycharm": {
     "name": "#%%\n"
    }
   },
   "outputs": [
    {
     "name": "stdout",
     "output_type": "stream",
     "text": [
      "len commit dates & ys: [10, 10, 10, 10]\n",
      "[77, 39, 39, 39, 39, 39, 39, 0, 0, 0]\n",
      "\n",
      "[2593, 2593, 2593, 2593, 2604, 2604, 2604, 2605, 2607, 2614]\n",
      "\n",
      "[376, 376, 376, 376, 366, 366, 366, 366, 364, 359]\n",
      "\n"
     ]
    },
    {
     "data": {
      "image/png": "[encoded data removed]",
      "text/plain": [
       "<Figure size 720x1080 with 4 Axes>"
      ]
     },
     "metadata": {
      "needs_background": "light"
     },
     "output_type": "display_data"
    }
   ],
   "source": [
    "from lib import graph\n",
    "reload(graph)\n",
    "\n",
    "graph.repo_stackplots(totals_dict)\n",
    "# graph.repo_stackplots(repo_results)"
   ]
  },
  {
   "cell_type": "code",
   "execution_count": 102,
   "metadata": {
    "pycharm": {
     "name": "#%%\n"
    }
   },
   "outputs": [],
   "source": [
    "# from github import Github\n",
    "#\n",
    "# apikey = open(\"github.apikey\")\n",
    "#\n",
    "# g = Github()\n",
    "# org = g.get_organization(\"storj\")\n",
    "# repos = org.get_repos()\n",
    "# page = repos.get_page(0)\n",
    "#\n",
    "# storj_repos = page"
   ]
  },
  {
   "cell_type": "code",
   "execution_count": 103,
   "metadata": {
    "pycharm": {
     "name": "#%%\n"
    }
   },
   "outputs": [],
   "source": [
    "# [(r.name, r.created_at) for r in storj_repos]"
   ]
  }
 ],
 "metadata": {
  "kernelspec": {
   "display_name": "Python 3",
   "language": "python",
   "name": "python3"
  },
  "language_info": {
   "codemirror_mode": {
    "name": "ipython",
    "version": 3
   },
   "file_extension": ".py",
   "mimetype": "text/x-python",
   "name": "python",
   "nbconvert_exporter": "python",
   "pygments_lexer": "ipython3",
   "version": "3.8.2"
  }
 },
 "nbformat": 4,
 "nbformat_minor": 4
}

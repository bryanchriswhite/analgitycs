{
 "cells": [
  {
   "cell_type": "code",
   "execution_count": 110,
   "outputs": [],
   "source": [
    "import subprocess\n",
    "\n",
    "def blame(file):\n",
    "    return subprocess.run([\"git\", \"blame\", \"--line-porcelain\", file],\n",
    "       capture_output=True,\n",
    "       cwd=repo_root\n",
    "    ).stdout.decode(\"utf8\")\n",
    "\n",
    "def git_ls_files(repo_root, dir=None):\n",
    "    args = [\"git\", \"ls-files\"]\n",
    "    if dir is not None:\n",
    "        args.append(dir) \n",
    "        \n",
    "    p = subprocess.run(args,\n",
    "       capture_output=True,\n",
    "       cwd=repo_root\n",
    "    )\n",
    "    \n",
    "    if p.returncode != 0:\n",
    "        return p.stderr.decode(\"utf8\")\n",
    "    return p.stdout.decode(\"utf8\").split(\"\\n\")\n",
    "\n",
    "def add_lines(counts, author, start, end):\n",
    "    if author not in counts:\n",
    "        counts[author] = 0\n",
    "        \n",
    "    diff = end - start\n",
    "    counts[author] += diff\n",
    "\n",
    "def count_file(f):\n",
    "    print(f)\n",
    "    counts = {}\n",
    "\n",
    "    last_author_header_ln = 1\n",
    "    last_header_ln = 1\n",
    "    last_author_name = None\n",
    "\n",
    "    blame_lines = blame(path.join(repo_root, f)).split(\"\\n\")\n",
    "\n",
    "    for j, line in enumerate(blame_lines):\n",
    "        if line == \"\":\n",
    "            continue\n",
    "\n",
    "        header_match = header_re.match(line)\n",
    "        if header_match is not None:\n",
    "            header_new_ln = int(header_match.group(1))\n",
    "            last_header_ln = int(header_new_ln)\n",
    "            continue\n",
    "\n",
    "        author_match = author_re.match(line)\n",
    "        if author_match is not None:\n",
    "            author = author_match.group(1)\n",
    "            if last_author_name is None:\n",
    "                last_author_name = author\n",
    "                continue\n",
    "            \n",
    "\n",
    "            add_lines(counts, last_author_name, last_author_header_ln, last_header_ln)\n",
    "            \n",
    "            last_author_name = author\n",
    "            last_author_header_ln = last_header_ln\n",
    "            \n",
    "            \n",
    "    add_lines(counts, last_author_name, last_author_header_ln, last_header_ln + 1)\n",
    "    \n",
    "    return counts"
   ],
   "metadata": {
    "collapsed": false,
    "pycharm": {
     "name": "#%%\n",
     "is_executing": false
    }
   }
  },
  {
   "cell_type": "code",
   "execution_count": 113,
   "outputs": [
    {
     "name": "stdout",
     "text": [
      "certificate/authorization/authorizations.go\n",
      "certificate/authorization/authorizations_test.go\n",
      "certificate/authorization/db.go\n"
     ],
     "output_type": "stream"
    }
   ],
   "source": [
    "import re, pathlib, os.path as path\n",
    "\n",
    "limit = 3\n",
    "root_dir = \"/home/bwhite/Projects/bryanchriswhite\"\n",
    "repo_names = [\n",
    "    \"storj\",\n",
    "]\n",
    "author_regex = re.compile(\"\\S+\\s+\\(([\\w ]+)\\s*?\\d{4,}\")\n",
    "\n",
    "header_re = re.compile(\"\\w{,40} \\d+ (\\d+)(:? (\\d+))?\")\n",
    "author_re = re.compile(\"author (.+)$\")\n",
    "\n",
    "files_author_line_counts = {}\n",
    "\n",
    "\n",
    "def filter_files(filename):\n",
    "    ext = path.splitext(f)[1]\n",
    "    return filename == \"\" or ext != \".go\"\n",
    "\n",
    "\n",
    "for name in repo_names:\n",
    "    repo_root = path.join(root_dir, name)\n",
    "    files = git_ls_files(repo_root=repo_root)\n",
    "    i = 0\n",
    "    for f in files:\n",
    "        if filter_files(f):\n",
    "            continue\n",
    "        \n",
    "        i += 1\n",
    "        if i <= limit:\n",
    "            author_line_counts = count_file(f)\n",
    "            # print(author_line_counts)\n",
    "            files_author_line_counts[f] = author_line_counts\n",
    "            # print(files_author_line_counts)\n",
    "                    \n",
    "# files_author_line_counts"
   ],
   "metadata": {
    "collapsed": false,
    "pycharm": {
     "name": "#%%\n",
     "is_executing": false
    }
   }
  },
  {
   "cell_type": "code",
   "execution_count": 114,
   "outputs": [
    {
     "name": "stdout",
     "text": [
      "certificate/authorization/authorizations.go\n",
      "    Bryan White: 174\n",
      "    Jeff Wendling: 2\n",
      "    Egon Elbre: 3\n",
      "certificate/authorization/authorizations_test.go\n",
      "    Jennifer Li Johnson: 1\n",
      "    Bryan White: 168\n",
      "    Egon Elbre: 56\n",
      "    ethanadams: 7\n",
      "    Isaac Hess: 1\n",
      "    JT Olio: 2\n",
      "    Stefan Benten: 1\n",
      "    Jeff Wendling: 3\n",
      "    Yingrong Zhao: 1\n",
      "certificate/authorization/db.go\n",
      "    Bryan White: 294\n",
      "    Egon Elbre: 3\n",
      "    Jennifer Johnson: 1\n"
     ],
     "output_type": "stream"
    }
   ],
   "source": [
    "for f, author_line_counts in files_author_line_counts.items():\n",
    "    print(f)\n",
    "    for author, line_count in author_line_counts.items():\n",
    "        print(str.format(\"    {}: {}\", author, line_count))\n",
    "                    "
   ],
   "metadata": {
    "collapsed": false,
    "pycharm": {
     "name": "#%%                   \n",
     "is_executing": false
    }
   }
  },
  {
   "cell_type": "code",
   "execution_count": 24,
   "outputs": [
    {
     "name": "stdout",
     "text": [
      "/home/bwhite/Projects\n",
      "/home/bwhite/Projects/storj_repos.pickle\n"
     ],
     "output_type": "stream"
    }
   ],
   "source": [
    "import pickle\n",
    "# from github import Github\n",
    "\n",
    "print(root_dir)\n",
    "pickle_path = path.join(root_dir, \"storj_repos.pickle\")\n",
    "storj_repos_file = open(pickle_path, \"wb\")\n",
    "# apikey = open(\"github.apikey\")\n",
    "#                \n",
    "# g = Github()\n",
    "# org = g.get_organization(\"storj\")\n",
    "# repos = org.get_repos()\n",
    "# page = repos.get_page(0)\n",
    "\n",
    "print(pickle_path)\n",
    "storj_repos_file.write(b\"testing 123\")\n",
    "storj_repos_file.close()\n",
    "# pickle.dump(page, storj_repos_file)"
   ],
   "metadata": {
    "collapsed": false,
    "pycharm": {
     "name": "#%%\n",
     "is_executing": false
    }
   }
  },
  {
   "cell_type": "code",
   "execution_count": 18,
   "outputs": [
    {
     "traceback": [
      "\u001b[0;31m---------------------------------------------------------------------------\u001b[0m",
      "\u001b[0;31mUnsupportedOperation\u001b[0m                      Traceback (most recent call last)",
      "\u001b[0;32m<ipython-input-18-dcb90ca39ab3>\u001b[0m in \u001b[0;36m<module>\u001b[0;34m\u001b[0m\n\u001b[0;32m----> 1\u001b[0;31m \u001b[0mpage\u001b[0m \u001b[0;34m=\u001b[0m \u001b[0mpickle\u001b[0m\u001b[0;34m.\u001b[0m\u001b[0mload\u001b[0m\u001b[0;34m(\u001b[0m\u001b[0mstorj_repos_file\u001b[0m\u001b[0;34m)\u001b[0m\u001b[0;34m\u001b[0m\u001b[0;34m\u001b[0m\u001b[0m\n\u001b[0m\u001b[1;32m      2\u001b[0m \u001b[0;34m\u001b[0m\u001b[0m\n\u001b[1;32m      3\u001b[0m \u001b[0;34m[\u001b[0m\u001b[0;34m(\u001b[0m\u001b[0mr\u001b[0m\u001b[0;34m.\u001b[0m\u001b[0mname\u001b[0m\u001b[0;34m,\u001b[0m \u001b[0mr\u001b[0m\u001b[0;34m.\u001b[0m\u001b[0mcreated_at\u001b[0m\u001b[0;34m)\u001b[0m \u001b[0;32mfor\u001b[0m \u001b[0mr\u001b[0m \u001b[0;32min\u001b[0m \u001b[0mpage\u001b[0m\u001b[0;34m]\u001b[0m\u001b[0;34m\u001b[0m\u001b[0;34m\u001b[0m\u001b[0m\n",
      "\u001b[0;31mUnsupportedOperation\u001b[0m: read"
     ],
     "ename": "UnsupportedOperation",
     "evalue": "read",
     "output_type": "error"
    }
   ],
   "source": [
    "page = pickle.load(storj_repos_file)\n",
    "\n",
    "[(r.name, r.created_at) for r in page]"
   ],
   "metadata": {
    "collapsed": false,
    "pycharm": {
     "name": "#%%\n",
     "is_executing": false
    }
   }
  }
 ],
 "metadata": {
  "kernelspec": {
   "name": "python3",
   "language": "python",
   "display_name": "Python 3"
  },
  "language_info": {
   "codemirror_mode": {
    "name": "ipython",
    "version": 3
   },
   "file_extension": ".py",
   "mimetype": "text/x-python",
   "name": "python",
   "nbconvert_exporter": "python",
   "pygments_lexer": "ipython3",
   "version": "3.8.1"
  },
  "pycharm": {
   "stem_cell": {
    "cell_type": "raw",
    "source": [],
    "metadata": {
     "collapsed": false
    }
   }
  }
 },
 "nbformat": 4,
 "nbformat_minor": 4
}
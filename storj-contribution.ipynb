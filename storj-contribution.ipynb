{
 "cells": [
  {
   "cell_type": "code",
   "execution_count": 21,
   "outputs": [],
   "source": [
    "import subprocess\n",
    "\n",
    "def blame(repo_root, file):\n",
    "    return subprocess.run([\"git\", \"blame\", file],\n",
    "       capture_output=True,\n",
    "       cwd=repo_root\n",
    "    ).stdout.decode(\"utf8\")\n",
    "\n",
    "def git_ls_files(repo_root, dir=None):\n",
    "    args = [\"git\", \"ls-files\"]\n",
    "    if dir is not None:\n",
    "        args.append(dir) \n",
    "        \n",
    "    p = subprocess.run(args,\n",
    "       capture_output=True,\n",
    "       cwd=repo_root\n",
    "    )\n",
    "    \n",
    "    if p.returncode != 0:\n",
    "        return p.stderr.decode(\"utf8\")\n",
    "    return p.stdout.decode(\"utf8\").split(\"\\n\")\n"
   ],
   "metadata": {
    "collapsed": false,
    "pycharm": {
     "name": "#%%\n",
     "is_executing": false
    }
   }
  },
  {
   "cell_type": "code",
   "execution_count": 36,
   "outputs": [
    {
     "name": "stdout",
     "text": [
      ".clabot:\nf07ad09463 (Dennis Coyle     2018-07-03 13:07:44 -0400  1) {\n01507929a4 (JT Olio          2018-09-10 01:54:11 -0600  2)   \"contributors\": [\n01507929a4 (JT Olio          2018-09-10 01:54:11 -0600  3)     \"aleitner\",\n01507929a4 (JT Olio          2018-09-10 01:54:11 -0600  4)     \"aligeti\",\n01507929a4 (JT Olio          2018-09-10 01:54:11 -0600  5)     \"Barterio\",\n01507929a4 (JT Olio          2018-09-10 01:54:11 -0600  6)     \"brimstone\",\n01507929a4 (JT Olio          2018-09-10 01:54:11 -0600  7)     \"bryanchriswhite\",\n01507929a4 (JT Olio          2018-09-10 01:54:11 -0600  8)     \"cam-a\",\n01507929a4 (JT Olio          2018-09-10 01:54:11 -0600  9)     \"coyle\",\n01507929a4 (JT Olio          2018-09-10 01:54:11 -0600 10)     \"crawter\",\n01507929a4 (JT Olio          2018-09-10 01:54:11 -0600 11)     \"dylanlott\",\n01507929a4 (JT Olio          2018-09-10 01:54:11 -0600 12)     \"egonelbre\",\n6aa50529ff (Kaloyan Raev     2019-04-01 13:33:37 +0300 13)     \"fadila82\",\n01507929a4 (JT Olio          2018-09-10 01:54:11 -0600 14)     \"iglesiasbrandon\",\n01507929a4 (JT Olio          2018-09-10 01:54:11 -0600 15)     \"jenlij\",\n01507929a4 (JT Olio          2018-09-10 01:54:11 -0600 16)     \"jhagans3\",\n01507929a4 (JT Olio          2018-09-10 01:54:11 -0600 17)     \"jtolds\",\n01507929a4 (JT Olio          2018-09-10 01:54:11 -0600 18)     \"kaloyan-raev\",\n01507929a4 (JT Olio          2018-09-10 01:54:11 -0600 19)     \"littleskunk\",\n01507929a4 (JT Olio          2018-09-10 01:54:11 -0600 20)     \"mniewrzal\",\n01507929a4 (JT Olio          2018-09-10 01:54:11 -0600 21)     \"mobyvb\",\n01507929a4 (JT Olio          2018-09-10 01:54:11 -0600 22)     \"navillasa\",\n01507929a4 (JT Olio          2018-09-10 01:54:11 -0600 23)     \"nfarah86\",\n01507929a4 (JT Olio          2018-09-10 01:54:11 -0600 24)     \"NikolaiYurchenko\",\n01507929a4 (JT Olio          2018-09-10 01:54:11 -0600 25)     \"phutchins\",\n01507929a4 (JT Olio          2018-09-10 01:54:11 -0600 26)     \"rikysya\",\n01507929a4 (JT Olio          2018-09-10 01:54:11 -0600 27)     \"stefanbenten\",\n52951963f4 (Matt Robinson    2018-10-15 11:22:00 -0400 28)     \"thepaul\",\n3cd2be2b46 (Dennis Coyle     2018-10-24 13:06:46 -0400 29)     \"wthorp\",\n09f27d7523 (JT Olio          2019-01-18 12:28:37 -0500 30)     \"RichardLitt\",\n89e655d78f (Dennis Coyle     2018-12-10 08:43:25 -0500 31)     \"fuskovic\",\n09f27d7523 (JT Olio          2019-01-18 12:28:37 -0500 32)     \"keleffew\",\nbad733cfac (Egon Elbre       2019-02-25 16:40:48 +0200 33)     \"oCroso\",\nb3d1ab32f5 (Brandon Iglesias 2019-02-27 14:10:58 -0500 34)     \"pgerbes1\",\n59233c6d75 (Dennis Coyle     2019-03-04 15:21:49 -0500 35)     \"JessicaGreben\",\n7becb06214 (Stefan Benten    2019-03-25 17:11:01 +0100 36)     \"benjaminsirb\",\n379f16af26 (Brandon Iglesias 2019-04-08 11:15:17 -0400 37)     \"simongui\",\n6f964e63e8 (Stefan Benten    2019-05-06 22:10:46 +0200 38)     \"ifraixedes\",\nb185c1ee8e (Brandon Iglesias 2019-05-07 08:26:16 -0400 39)     \"VinozzZ\",\n4515dd8ab3 (Stefan Benten    2019-05-07 15:20:06 +0200 40)     \"zeebo\",\n4515dd8ab3 (Stefan Benten    2019-05-07 15:20:06 +0200 41)     \"barlock\",\n3471174dce (Stefan Benten    2019-05-13 08:39:43 +0200 42)     \"sndrr\",\n020a6c7804 (Stefan Benten    2019-05-20 12:23:46 +0200 43)     \"BlackDuck888\",\nb15b6edc58 (Dennis Coyle     2019-05-24 10:56:58 -0400 44)     \"3bl3gamer\",\n20c9f9776c (Stefan Benten    2019-05-25 18:01:16 +0200 45)     \"ethanadams\",\ne2c5d75b4c (Stefan Benten    2019-06-04 14:06:18 +0200 46)     \"ReneSmeekes\",\ne85c56518a (Stefan Benten    2019-06-12 20:59:56 +0200 47)     \"VitaliiShpital\",\n213bcacc83 (Brandon Iglesias 2019-06-19 16:40:09 -0400 48)     \"isaachess\",\n13ce28bf37 (Stefan Benten    2019-06-25 15:31:55 +0200 49)     \"azdagron\",\n725f8174b0 (Stefan Benten    2019-06-30 14:55:24 +0200 50)     \"phthano\",\ne5f30bddc0 (Stefan Benten    2019-08-06 09:54:32 -0400 51)     \"nerdatwork\",\n52cdca01a6 (Stefan Benten    2019-09-04 12:28:00 +0200 52)     \"kmozurkewich\",\n3647fd7b37 (Stefan Benten    2019-09-23 20:44:43 +0200 53)     \"TopperDEL\",\n3647fd7b37 (Stefan Benten    2019-09-23 20:44:43 +0200 54)     \"kristaxox\",\n3647fd7b37 (Stefan Benten    2019-09-23 20:44:43 +0200 55)     \"calebcase\",\n9f082c61b6 (Stefan Benten    2019-09-29 04:18:01 +0200 56)     \"mbouzi\",\nbbe89ec9d1 (JT Olio          2019-10-16 08:12:07 -0600 57)     \"AlexeyALeonov\",\n02b9303420 (Stefan Benten    2019-10-18 13:26:23 +0200 58)     \"Qweder93\",\n281b8b6967 (Brandon Iglesias 2019-11-04 13:53:25 -0500 59)     \"cpustejovsky\",\n820e109cd5 (Brandon Iglesias 2019-12-11 13:54:12 -0500 60)     \"grafael\",\nc59938479c (Michal Niewrzal  2020-02-11 17:49:46 +0100 61)     \"ihaid\",\n028ce16020 (Stefan Benten    2020-03-30 17:33:06 +0200 62)     \"montyanderson\",\n028ce16020 (Stefan Benten    2020-03-30 17:33:06 +0200 63)     \"sixcorners\"\n52951963f4 (Matt Robinson    2018-10-15 11:22:00 -0400 64) \t]\n4eb9578106 (Dennis Coyle     2018-07-05 03:47:41 -0400 65) }\n\n.dockerignore:\n0a78e741ec (Matt Robinson 2018-08-31 11:21:44 -0400 1) /*.swp\nc0e6b62708 (Matt Robinson 2019-01-03 14:54:27 -0500 2) docker-compose.yaml\n\n"
     ],
     "output_type": "stream"
    }
   ],
   "source": [
    "limit = 2\n",
    "root = \"/home/bwhite/Projects/storj.io/storj/v1.1.1\"\n",
    "\n",
    "files = git_ls_files(repo_root=root)\n",
    "\n",
    "for i, f in enumerate(files):\n",
    "    if f != \"\" and i < limit:\n",
    "        print(str.format(\"{}:\\n{}\", f, blame(root, f)))\n"
   ],
   "metadata": {
    "collapsed": false,
    "pycharm": {
     "name": "#%%\n",
     "is_executing": false
    }
   }
  }
 ],
 "metadata": {
  "kernelspec": {
   "name": "python3",
   "language": "python",
   "display_name": "Python 3"
  },
  "language_info": {
   "codemirror_mode": {
    "name": "ipython",
    "version": 3
   },
   "file_extension": ".py",
   "mimetype": "text/x-python",
   "name": "python",
   "nbconvert_exporter": "python",
   "pygments_lexer": "ipython3",
   "version": "3.8.1"
  },
  "pycharm": {
   "stem_cell": {
    "cell_type": "raw",
    "source": [],
    "metadata": {
     "collapsed": false
    }
   }
  }
 },
 "nbformat": 4,
 "nbformat_minor": 4
}
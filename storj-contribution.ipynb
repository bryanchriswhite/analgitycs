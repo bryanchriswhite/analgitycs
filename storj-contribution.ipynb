{
 "cells": [
  {
   "cell_type": "code",
   "execution_count": null,
   "metadata": {
    "pycharm": {
     "name": "#%%\n"
    }
   },
   "outputs": [],
   "source": [
    "%matplotlib inline\n",
    "from importlib import reload"
   ]
  },
  {
   "cell_type": "code",
   "execution_count": null,
   "outputs": [],
   "source": [
    "import re, time, os.path as path\n",
    "from datetime import date\n",
    "from math import floor\n",
    "from concurrent.futures import ThreadPoolExecutor, as_completed\n",
    "\n",
    "import my_types, count\n",
    "\n",
    "start = time.perf_counter()\n",
    "\n",
    "max_workers = 15\n",
    "root_dir = \"/home/bwhite/Projects/bryanchriswhite\"\n",
    "repo_names = [\n",
    "    \"storj\",\n",
    "    \"uplink\",\n",
    "    \"uplink-c\"\n",
    "]\n",
    "author_regex = re.compile(\"\\S+\\s+\\(([\\w ]+)\\s*?\\d{4,}\")\n",
    "commit_re = re.compile(\"^(\\w+)\\s+\\(.*,\\s+(\\d{4,}-\\d{2,}-\\d{2,})\\)$\")\n",
    "excluded_exts = set()\n",
    "repo_counts: my_types.AllRepoFileAuthors = {}\n",
    "\n",
    "def filter_ext(filename):\n",
    "    ext = path.splitext(filename)[1]\n",
    "    ext_whitelist = (\n",
    "        \".go\", \".proto\", \".c\", \".h\", \".sh\", \".md\", \".xml\", \".wixproj\", \".wsx\", \".cs\"\n",
    "    )\n",
    "    exclude = filename == \"\" or ext not in ext_whitelist\n",
    "    \n",
    "    if exclude:\n",
    "        excluded_exts.add(ext)\n",
    "    \n",
    "    return exclude\n",
    "\n",
    "with ThreadPoolExecutor(max_workers=max_workers) as executor:\n",
    "    results = {}\n",
    "    for name in repo_names:\n",
    "        repo_root = path.join(root_dir, name)\n",
    "        results[name] = count.repo(executor, repo_root, filter_func=filter_ext)\n",
    "\n",
    "    for name, future in results.items():\n",
    "        repo_counts[name] = {k: v.result() for k, v in future.items()}\n",
    "\n",
    "end = time.perf_counter()\n",
    "print(str.format(\"done: {}s!\", round(end - start, 2)))\n",
    "print(str.format(\"excluded file extensions: {}\", excluded_exts))"
   ],
   "metadata": {
    "collapsed": false,
    "pycharm": {
     "name": "#%%\n"
    }
   }
  },
  {
   "cell_type": "code",
   "execution_count": null,
   "metadata": {
    "pycharm": {
     "name": "#%%\n"
    }
   },
   "outputs": [],
   "source": [
    "import git\n",
    "from typing import List, Tuple, Dict\n",
    "\n",
    "max_samples = 128\n",
    "samples: List[Tuple[date, str]] = []\n",
    "commits: Dict[str, date] = {}\n",
    "log_lines = git.log(path.join(root_dir, repo_names[2]), \"master\")\n",
    "for line in log_lines:\n",
    "    if line == \"\":\n",
    "        continue\n",
    "\n",
    "    match = commit_re.match(line)\n",
    "    if match is None:\n",
    "        continue\n",
    "\n",
    "    commit_hash, commit_date = [match[k] for k in (range(1, 3))]\n",
    "\n",
    "    if commit_hash is None or commit_date is None:\n",
    "        print(\"no commit hash or date\")\n",
    "        continue\n",
    "\n",
    "    commits[commit_hash] = date.fromisoformat(commit_date)\n",
    "\n",
    "date_hashes: List[Tuple[date, str]] = [(d, h) for h, d in commits.items()]\n",
    "date_hashes.sort(key=lambda n: n[0], reverse=True)\n",
    "\n",
    "date_hashes_len = len(date_hashes)\n",
    "if max_samples > date_hashes_len:\n",
    "    max_samples = date_hashes_len\n",
    "\n",
    "interval = floor(len(date_hashes) / max_samples)\n",
    "\n",
    "for i, date_hash in enumerate(date_hashes):\n",
    "    if i % interval == 0:\n",
    "        samples.append(date_hash)\n",
    "\n",
    "max_worktrees = 10"
   ]
  },
  {
   "cell_type": "code",
   "execution_count": null,
   "metadata": {
    "pycharm": {
     "name": "#%%\n"
    }
   },
   "outputs": [],
   "source": [
    "# from time import sleep\n",
    "#\n",
    "# import worktree_queue\n",
    "# reload(worktree_queue)\n",
    "#\n",
    "# with WorktreeQueue(\"/home/bwhite/Projects/bryanchriswhite/uplink\", 10) as q:\n",
    "#     for \n",
    "#\n",
    "#     print(q.get_root())\n",
    "#     sleep(2)\n"
   ]
  },
  {
   "cell_type": "code",
   "execution_count": null,
   "metadata": {
    "pycharm": {
     "name": "#%%\n"
    }
   },
   "outputs": [],
   "source": [
    "# def add_worktree(i: int):\n",
    "#     work_path = path.join(f'worktree{i}')\n",
    "#     args = [\"git\", \"worktree\", \"add\", work_path, \"master\"]\n",
    "#     subprocess.run(args,\n",
    "#                    capture_output=True,\n",
    "#                    cwd=root_dir)\n",
    "# \n",
    "# for i in range(0, max_worktrees):\n",
    "#     add_worktree(i)\n",
    "# \n",
    "# for i in range(0, max_worktrees):\n",
    "#     remove_worktree(i)\n",
    "\n",
    "# for c_date, hash in samples:\n",
    "    #git worktree move\n"
   ]
  },
  {
   "cell_type": "code",
   "execution_count": null,
   "metadata": {
    "pycharm": {
     "name": "#%%\n"
    }
   },
   "outputs": [],
   "source": [
    "import print, util\n",
    "reload(print)\n",
    "\n",
    "totals_dict, total_lines = util.repo_counts_to_totals_dict(repo_counts)\n",
    "print.leaderboard(totals_dict)\n"
   ]
  },
  {
   "cell_type": "code",
   "execution_count": null,
   "metadata": {
    "pycharm": {
     "name": "#%%\n"
    }
   },
   "outputs": [],
   "source": [
    "import graph\n",
    "reload(graph)\n",
    "\n",
    "graph.repo_stackplots(totals_dict)"
   ]
  },
  {
   "cell_type": "code",
   "execution_count": null,
   "metadata": {
    "pycharm": {
     "name": "#%%\n"
    }
   },
   "outputs": [],
   "source": [
    "# from github import Github\n",
    "#\n",
    "# apikey = open(\"github.apikey\")\n",
    "#\n",
    "# g = Github()\n",
    "# org = g.get_organization(\"storj\")\n",
    "# repos = org.get_repos()\n",
    "# page = repos.get_page(0)\n",
    "#\n",
    "# storj_repos = page"
   ]
  },
  {
   "cell_type": "code",
   "execution_count": null,
   "metadata": {
    "pycharm": {
     "name": "#%%\n"
    }
   },
   "outputs": [],
   "source": [
    "# [(r.name, r.created_at) for r in storj_repos]"
   ]
  }
 ],
 "metadata": {
  "kernelspec": {
   "display_name": "Python 3",
   "language": "python",
   "name": "python3"
  },
  "language_info": {
   "codemirror_mode": {
    "name": "ipython",
    "version": 3
   },
   "file_extension": ".py",
   "mimetype": "text/x-python",
   "name": "python",
   "nbconvert_exporter": "python",
   "pygments_lexer": "ipython3",
   "version": "3.8.2"
  }
 },
 "nbformat": 4,
 "nbformat_minor": 4
}
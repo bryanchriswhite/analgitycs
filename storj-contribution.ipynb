{
 "cells": [
  {
   "cell_type": "code",
   "execution_count": 1,
   "outputs": [],
   "source": [
    "import subprocess\n",
    "\n",
    "def blame(repo_root, file):\n",
    "    return subprocess.run([\"git\", \"blame\", file],\n",
    "       capture_output=True,\n",
    "       cwd=repo_root\n",
    "    ).stdout.decode(\"utf8\")\n",
    "\n",
    "def git_ls_files(repo_root, dir=None):\n",
    "    args = [\"git\", \"ls-files\"]\n",
    "    if dir is not None:\n",
    "        args.append(dir) \n",
    "        \n",
    "    p = subprocess.run(args,\n",
    "       capture_output=True,\n",
    "       cwd=repo_root\n",
    "    )\n",
    "    \n",
    "    if p.returncode != 0:\n",
    "        return p.stderr.decode(\"utf8\")\n",
    "    return p.stdout.decode(\"utf8\").split(\"\\n\")\n"
   ],
   "metadata": {
    "collapsed": false,
    "pycharm": {
     "name": "#%%\n",
     "is_executing": false
    }
   }
  },
  {
   "cell_type": "code",
   "execution_count": 14,
   "outputs": [
    {
     "name": "stdout",
     "text": [
      ".clabot\n",
      ".dockerignore\n",
      ".github/CODEOWNERS\n",
      ".github/pull_request_template.md\n",
      ".gitignore\n",
      "no match: ^250b36f27 (Dennis Coyle    2018-04-06 12:32:34 -0400  1) # Mac OS X files\n",
      "no match: ^250b36f27 (Dennis Coyle    2018-04-06 12:32:34 -0400  2) .DS_Store\n",
      "no match: ^250b36f27 (Dennis Coyle    2018-04-06 12:32:34 -0400  3) \n",
      "no match: ^250b36f27 (Dennis Coyle    2018-04-06 12:32:34 -0400  4) # Binaries for programs and plugins\n",
      "no match: ^250b36f27 (Dennis Coyle    2018-04-06 12:32:34 -0400  5) *.exe\n",
      "no match: ^250b36f27 (Dennis Coyle    2018-04-06 12:32:34 -0400  6) *.dll\n",
      "no match: ^250b36f27 (Dennis Coyle    2018-04-06 12:32:34 -0400  7) *.so\n",
      "no match: ^250b36f27 (Dennis Coyle    2018-04-06 12:32:34 -0400  8) *.dylib\n",
      "no match: ^250b36f27 (Dennis Coyle    2018-04-06 12:32:34 -0400 10) \n",
      "no match: ^250b36f27 (Dennis Coyle    2018-04-06 12:32:34 -0400 11) # Test binary, build with `go test -c`\n",
      "no match: ^250b36f27 (Dennis Coyle    2018-04-06 12:32:34 -0400 12) *.test\n",
      "no match: ^250b36f27 (Dennis Coyle    2018-04-06 12:32:34 -0400 14) \n",
      "no match: ^250b36f27 (Dennis Coyle    2018-04-06 12:32:34 -0400 15) # Output of the go coverage tool, specifically when used with LiteIDE\n",
      ".golangci.yml\n",
      "CODE_OF_CONDUCT.md\n",
      "Jenkinsfile\n",
      "Jenkinsfile.public\n",
      "LICENSE\n"
     ],
     "output_type": "stream"
    },
    {
     "data": {
      "text/plain": "{'Dennis Coyle     ': 2,\n 'Matt Robinson ': 1,\n 'JT Olio ': 2,\n 'JT Olio             ': 1,\n 'Michal Niewrzal ': 1,\n 'Ethan Adams ': 1,\n 'Brandon Iglesias ': 1,\n 'Stefan Benten         ': 1}"
     },
     "metadata": {},
     "output_type": "execute_result",
     "execution_count": 14
    }
   ],
   "source": [
    "import re, pathlib, os.path as path\n",
    "\n",
    "limit = 10\n",
    "root_dir = path.dirname(pathlib.Path().absolute())\n",
    "repo_names = [\n",
    "    \"storj\",\n",
    "]\n",
    "author_regex = re.compile(\"\\w+\\s+\\(([\\w ]+)\\s*?\\d{4,}\")\n",
    "\n",
    "author_line_counts = {}\n",
    "\n",
    "for name in repo_names:\n",
    "    repo_root = path.join(root_dir, name)\n",
    "    files = git_ls_files(repo_root=repo_root)\n",
    "    for i, f in enumerate(files):\n",
    "        if f != \"\" and i < limit:\n",
    "            print(f)\n",
    "            blame_lines = blame(repo_root, f)\n",
    "            for line in blame_lines.split(\"\\n\"):\n",
    "                if line == \"\":\n",
    "                    continue\n",
    "                    \n",
    "                match = author_regex.match(line)\n",
    "                if match is None:\n",
    "                    print(\"no match: %s\" % line)\n",
    "                continue\n",
    "            \n",
    "            author = match.group(1)\n",
    "            if author is None:\n",
    "                print(\"no author: %s\" % line)\n",
    "                continue\n",
    "                \n",
    "            # print(author)\n",
    "            if author in author_line_counts:\n",
    "                author_line_counts[author] += 1\n",
    "            else:\n",
    "                author_line_counts[author] = 1\n",
    "                \n",
    "author_line_counts"
   ],
   "metadata": {
    "collapsed": false,
    "pycharm": {
     "name": "#%%\n",
     "is_executing": false
    }
   }
  },
  {
   "cell_type": "code",
   "execution_count": 3,
   "outputs": [
    {
     "data": {
      "text/plain": "{'Dennis': 1, 'Matt': 1}"
     },
     "metadata": {},
     "output_type": "execute_result",
     "execution_count": 3
    }
   ],
   "source": [
    "author_line_counts\n",
    "                    "
   ],
   "metadata": {
    "collapsed": false,
    "pycharm": {
     "name": "#%%                   \n",
     "is_executing": false
    }
   }
  },
  {
   "cell_type": "code",
   "execution_count": 4,
   "outputs": [
    {
     "data": {
      "text/plain": "[('pushy-cat', datetime.datetime(2014, 4, 21, 23, 49, 38)),\n ('storjshare-gui', datetime.datetime(2014, 7, 15, 20, 4, 18)),\n ('bridge-gui', datetime.datetime(2015, 12, 3, 19, 18, 7)),\n ('autobin', datetime.datetime(2015, 12, 28, 16, 13, 20)),\n ('bridge', datetime.datetime(2016, 1, 7, 16, 46, 33)),\n ('core', datetime.datetime(2016, 2, 2, 16, 10, 31)),\n ('storj.io', datetime.datetime(2016, 3, 28, 19, 59, 15)),\n ('pullypusher', datetime.datetime(2016, 3, 31, 18, 20, 34)),\n ('statusify', datetime.datetime(2016, 3, 31, 21, 27, 26)),\n ('data-api', datetime.datetime(2016, 4, 13, 17, 8, 53)),\n ('chef-storj', datetime.datetime(2016, 5, 25, 14, 3, 4)),\n ('sips', datetime.datetime(2016, 6, 24, 14, 47, 14)),\n ('storj-python-sdk', datetime.datetime(2016, 8, 11, 14, 24, 21)),\n ('heroku-addon', datetime.datetime(2016, 8, 24, 10, 55, 48)),\n ('heroku-email-service', datetime.datetime(2016, 8, 24, 10, 58, 46)),\n ('kfs', datetime.datetime(2016, 8, 26, 19, 38, 3)),\n ('storj-node-heroku-example', datetime.datetime(2016, 9, 16, 3, 42, 54)),\n ('complex', datetime.datetime(2016, 9, 20, 23, 32, 50)),\n ('mongodb-adapter', datetime.datetime(2016, 9, 21, 19, 35, 23)),\n ('service-middleware', datetime.datetime(2016, 9, 21, 23, 23, 49)),\n ('service-storage-models', datetime.datetime(2016, 9, 22, 14, 13, 35)),\n ('service-error-types', datetime.datetime(2016, 9, 22, 14, 29, 18)),\n ('service-auditor', datetime.datetime(2016, 9, 26, 20, 9, 19)),\n ('service-mailer', datetime.datetime(2016, 9, 26, 20, 34, 59)),\n ('billing', datetime.datetime(2016, 9, 28, 0, 3, 24)),\n ('integration', datetime.datetime(2016, 10, 20, 22, 4, 16)),\n ('storjshare-daemon', datetime.datetime(2016, 10, 31, 19, 59, 41)),\n ('libstorj', datetime.datetime(2016, 11, 7, 15, 52, 36)),\n ('whitepaper', datetime.datetime(2016, 11, 29, 14, 56, 2)),\n ('storj.js', datetime.datetime(2016, 12, 13, 0, 14, 9))]"
     },
     "metadata": {},
     "output_type": "execute_result",
     "execution_count": 4
    }
   ],
   "source": [
    "from github import Github\n",
    "\n",
    "apikey = open(\"github.apikey\")\n",
    "               \n",
    "g = Github()\n",
    "org = g.get_organization(\"storj\")\n",
    "repos = org.get_repos()\n",
    "page = repos.get_page(0)\n",
    "\n",
    "[(r.name, r.created_at) for r in page]\n"
   ],
   "metadata": {
    "collapsed": false,
    "pycharm": {
     "name": "#%%\n",
     "is_executing": false
    }
   }
  }
 ],
 "metadata": {
  "kernelspec": {
   "name": "python3",
   "language": "python",
   "display_name": "Python 3"
  },
  "language_info": {
   "codemirror_mode": {
    "name": "ipython",
    "version": 3
   },
   "file_extension": ".py",
   "mimetype": "text/x-python",
   "name": "python",
   "nbconvert_exporter": "python",
   "pygments_lexer": "ipython3",
   "version": "3.8.1"
  },
  "pycharm": {
   "stem_cell": {
    "cell_type": "raw",
    "source": [],
    "metadata": {
     "collapsed": false
    }
   }
  }
 },
 "nbformat": 4,
 "nbformat_minor": 4
}
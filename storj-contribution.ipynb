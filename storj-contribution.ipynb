{
 "cells": [
  {
   "cell_type": "code",
   "execution_count": 13,
   "metadata": {
    "pycharm": {
     "is_executing": true,
     "name": "#%%\n"
    }
   },
   "outputs": [],
   "source": [
    "%matplotlib inline\n",
    "from importlib import reload"
   ]
  },
  {
   "cell_type": "code",
   "execution_count": 14,
   "metadata": {
    "pycharm": {
     "is_executing": true,
     "name": "#%%\n"
    }
   },
   "outputs": [],
   "source": [
    "from lib import util\n",
    "\n",
    "max_workers = 100\n",
    "max_worktrees = 300\n",
    "commit_limit = 300\n",
    "root_dir = \"/home/bwhite/Projects/bryanchriswhite\"\n",
    "repo_names = [\n",
    "    \"storj\",\n",
    "#     \"uplink\",\n",
    "    \"uplink-c\"\n",
    "]\n",
    "excluded_exts = set()\n",
    "ext_whitelist = (\n",
    "    \".go\", \".proto\", \".c\", \".h\", \".sh\", \".md\", \".xml\", \".wixproj\", \".wsx\", \".cs\"\n",
    ")\n",
    "filter_ext = util.filter_ext(ext_whitelist, excluded_exts)\n"
   ]
  },
  {
   "cell_type": "code",
   "execution_count": null,
   "metadata": {
    "pycharm": {
     "name": "#%%\n"
    }
   },
   "outputs": [
    {
     "name": "stdout",
     "output_type": "stream",
     "text": [
      "0.21s (commits)\n"
     ]
    }
   ],
   "source": [
    "from typing import List\n",
    "import os.path as path\n",
    "\n",
    "from lib import repo\n",
    "from lib.repo import RepoBlame\n",
    "reload(repo)\n",
    "\n",
    "\n",
    "repo_blames: List[RepoBlame] = []\n",
    "for repo in repo_names:\n",
    "    repo_root = path.join(root_dir, repo)\n",
    "    rb = RepoBlame(repo_root, 'master',\n",
    "                  max_workers=max_workers,\n",
    "                  max_worktrees=max_worktrees,\n",
    "                 commit_limit=commit_limit,\n",
    "                 file_filter=filter_ext)\n",
    "    repo_blames.append(rb)\n",
    "\n",
    "print(str.format(\"excluded file extensions: {}\", excluded_exts))"
   ]
  },
  {
   "cell_type": "code",
   "execution_count": null,
   "metadata": {},
   "outputs": [],
   "source": [
    "for rb in repo_blames:\n",
    "    rb.stackplot()"
   ]
  }
 ],
 "metadata": {
  "kernelspec": {
   "display_name": "Python 3",
   "language": "python",
   "name": "python3"
  },
  "language_info": {
   "codemirror_mode": {
    "name": "ipython",
    "version": 3
   },
   "file_extension": ".py",
   "mimetype": "text/x-python",
   "name": "python",
   "nbconvert_exporter": "python",
   "pygments_lexer": "ipython3",
   "version": "3.8.2"
  }
 },
 "nbformat": 4,
 "nbformat_minor": 4
}
